{
 "cells": [
  {
   "cell_type": "code",
   "execution_count": 1,
   "metadata": {},
   "outputs": [],
   "source": [
    "import numpy as np\n",
    "from scipy.special import erf\n",
    "import sys"
   ]
  },
  {
   "cell_type": "code",
   "execution_count": 2,
   "metadata": {},
   "outputs": [],
   "source": [
    "# must-set-parameters for calculation\n",
    "charge = 0"
   ]
  },
  {
   "cell_type": "code",
   "execution_count": 3,
   "metadata": {},
   "outputs": [],
   "source": [
    "# just some book keeping\n",
    "atomicNumber = {\n",
    "    \"H\": 1,\n",
    "    \"He\": 2,\n",
    "    \"Li\": 3\n",
    "}"
   ]
  },
  {
   "cell_type": "code",
   "execution_count": 4,
   "metadata": {},
   "outputs": [],
   "source": [
    "def readXyzFile(fileName):\n",
    "    f = open(fileName, \"r\")\n",
    "    \n",
    "    numAtoms = 0\n",
    "    numAtomsCheck = 0\n",
    "    coords = []\n",
    "    atoms = []\n",
    "    \n",
    "    for idx, line in enumerate(f):\n",
    "        # first line contains number of atoms\n",
    "        if idx == 0:\n",
    "            try:\n",
    "                numAtoms = int(line.split()[0]) # ignore new line chars or whitespace\n",
    "                continue\n",
    "            except ValueError as e:\n",
    "                print(\"Format error: No valid input for number of atoms given.\")\n",
    "                exit(1)\n",
    "            except IndexError as e:\n",
    "                print(\"Format error: First line is empty.\")\n",
    "        \n",
    "        # second line is empty and can be skipped\n",
    "        if idx == 1:\n",
    "            continue\n",
    "        \n",
    "        # rest of lines contain atom type and xyz coords\n",
    "        if idx > 1:\n",
    "            numAtomsCheck += 1\n",
    "            arr = line.split()\n",
    "            \n",
    "            atoms.append(arr[0]) \n",
    "            \n",
    "            coords.append([\n",
    "                float(arr[1]),\n",
    "                float(arr[2]),\n",
    "                float(arr[3])\n",
    "            ])\n",
    "            \n",
    "    \n",
    "    # additional format checks\n",
    "    if numAtoms != numAtomsCheck or numAtoms != len(atoms):\n",
    "        raise ValueError(\"Format error: Number of atoms in first line does not match number of entries.\")\n",
    "    \n",
    "    # don't forget to close the file\n",
    "    f.close()\n",
    "    \n",
    "    return numAtoms, np.asarray(coords), atoms"
   ]
  },
  {
   "cell_type": "code",
   "execution_count": 5,
   "metadata": {},
   "outputs": [],
   "source": [
    "# all the integral functions are here\n",
    "\n",
    "def productOfTwoGaussians(f1, f2):\n",
    "    \"\"\"pass exponent and center as tuple (SO pp.411)\"\"\"\n",
    "    a, R_a = f1\n",
    "    b, R_b = f2\n",
    "    \n",
    "    p = a + b\n",
    "    norm = (4 * a * b / (np.pi**2))**0.75 # product of normalization constants of two 1s Gaussians\n",
    "    R_p = (a * R_a + b * R_b) / (a + b)\n",
    "    K = norm * np.exp(- a * b * np.linalg.norm(R_a - R_b)**2 / (a + b) )\n",
    "    \n",
    "    return p, R_p, K\n",
    "\n",
    "\n",
    "def overlapIntegral(f1, f2):\n",
    "    \"\"\"pass exponent and center as tuple (SO pp.412)\"\"\"\n",
    "    \n",
    "    p, R_p, K = productOfTwoGaussians(f1, f2)\n",
    "    return K * (np.pi / p)**1.5\n",
    "\n",
    "\n",
    "def T_e(f1, f2):\n",
    "    \"\"\"pass exponent and center as tuple (SO pp.412)\"\"\"\n",
    "    a, R_a = f1\n",
    "    b, R_b = f2\n",
    "    \n",
    "    p, R_p, K = productOfTwoGaussians(f1, f2)\n",
    "    prefactor = a * b / (a + b)\n",
    "    return prefactor * (3 - 2*prefactor * np.linalg.norm(R_a - R_b)**2) * (np.pi / (a + b))**1.5 * K\n",
    "\n",
    "\n",
    "def F0(t):\n",
    "    if t == 0:\n",
    "        return 1\n",
    "    else:\n",
    "        return 0.5 * (np.pi * t)**0.5 * erf(t**0.5)\n",
    "        \n",
    "\n",
    "\n",
    "def V_eN(f1, f2, atomIdx):\n",
    "    \"\"\"pass exponent and center as tuple (SO pp.415)\"\"\"\n",
    "    \n",
    "    p, R_p, K = productOfTwoGaussians(f1, f2)\n",
    "    \n",
    "    \n",
    "    R_c = coords[atomIdx] # center of atom in question\n",
    "    atomType = atoms[atomIdx] # only for clarity, needed for atomCharge\n",
    "    atomCharge = atomicNumber[atomType] # charge of atom (Z)\n",
    "    \n",
    "    valF0 = F0(p * np.linalg.norm(R_p - R_c)**2)\n",
    "    \n",
    "    return - 2 * np.pi / p * atomCharge * K * valF0\n",
    "\n",
    "\n",
    "def V_ee(fA, fB, fC, fD):\n",
    "    \n",
    "    p, R_p, K_AB = productOfTwoGaussians(fA, fB)\n",
    "    q, R_q, K_CD = productOfTwoGaussians(fC, fD)\n",
    "\n",
    "    prefactor = 2*np.pi**2.5 / (p / q * (p + q)**0.5)\n",
    "    valF0 = F0(p * q / (p + q) * np.linalg.norm(R_p - R_q)**2)\n",
    "    return prefactor * K_AB * K_CD * valF0"
   ]
  },
  {
   "cell_type": "code",
   "execution_count": 7,
   "metadata": {},
   "outputs": [
    {
     "name": "stdout",
     "output_type": "stream",
     "text": [
      "idx: 0, type: H, Z = 1, coords: [-1.54551  0.4996   0.     ]\n",
      "idx: 1, type: H, Z = 1, coords: [-0.83751  0.4996   0.     ]\n"
     ]
    }
   ],
   "source": [
    "# actual calculation starts here with reading the atoms and coordinates\n",
    "numAtoms, coords, atoms = readXyzFile(\"data/h2.xyz\")\n",
    "\n",
    "\n",
    "# get number of electrons\n",
    "N = charge\n",
    "for atom in atoms:\n",
    "    N += atomicNumber[atom]\n",
    "\n",
    "    \n",
    "# get size of basis\n",
    "sizeBasis = numAtoms # only for STO-nG!!!\n",
    "    \n",
    "    \n",
    "# initialize matrices\n",
    "S = np.zeros((sizeBasis, sizeBasis)) # overlap\n",
    "T = np.zeros((sizeBasis, sizeBasis))\n",
    "V = np.zeros((sizeBasis, sizeBasis))\n",
    "\n",
    "\n",
    "# iteration over atoms\n",
    "for idx, val in enumerate(atoms):\n",
    "    # charge and center of atom\n",
    "    Z = atomicNumber[val]\n",
    "    R = coords[idx]\n",
    "    \n",
    "    print(\"idx: {}, type: {}, Z = {}, coords: {}\".format(idx, val, Z, R))\n",
    "    "
   ]
  },
  {
   "cell_type": "code",
   "execution_count": null,
   "metadata": {},
   "outputs": [],
   "source": [
    "class primGauss:\n",
    "    def __init__(self, alpha, coeff, coords, l1 = 0, l2 = 0, l3 = 0):\n",
    "        self.alpha = alpha\n",
    "        self.coeff = coeff\n",
    "        self.coords = coords\n",
    "        self.norm = (2.0 * alpha / np.pi) ** 0.75 # + other terms if angular momentum != 0"
   ]
  },
  {
   "cell_type": "code",
   "execution_count": null,
   "metadata": {},
   "outputs": [],
   "source": [
    "h1_a = primGauss(0.3425250914E+01, 0.1543289673E+00, [0, 0, 0])\n",
    "h1_b = primGauss(0.6239137298E+00, 0.5353281423E+00, [0, 0, 0])\n",
    "h1_c = primGauss(0.1688554040E+00, 0.4446345422E+00, [0, 0, 0])\n",
    "\n",
    "h2_a = primGauss(0.3425250914E+01, 0.1543289673E+00, [1.2, 0, 0])\n",
    "h2_b = primGauss(0.6239137298E+00, 0.5353281423E+00, [1.2, 0, 0])\n",
    "h2_c = primGauss(0.1688554040E+00, 0.4446345422E+00, [1.2, 0, 0])\n",
    "\n",
    "h1 = [h1_a, h1_b, h1_c]\n",
    "h2 = [h2_a, h2_b, h2_c]\n",
    "\n",
    "molecule = [h1, h2]"
   ]
  },
  {
   "cell_type": "code",
   "execution_count": null,
   "metadata": {},
   "outputs": [],
   "source": [
    "def overlap(molecule):\n",
    "    nAtoms = len(molecule)\n",
    "    \n",
    "    S = np.zeros([nAtoms, nAtoms])\n",
    "    \n",
    "    for i in range(nAtoms): # loop over rows of S\n",
    "        for j in range(nAtoms): # loop over cols of S\n",
    "            numPrimitves = len(molecule[i])\n",
    "        \n",
    "overlap(molecule)"
   ]
  },
  {
   "cell_type": "code",
   "execution_count": null,
   "metadata": {},
   "outputs": [],
   "source": []
  }
 ],
 "metadata": {
  "kernelspec": {
   "display_name": "Python 3",
   "language": "python",
   "name": "python3"
  },
  "language_info": {
   "codemirror_mode": {
    "name": "ipython",
    "version": 3
   },
   "file_extension": ".py",
   "mimetype": "text/x-python",
   "name": "python",
   "nbconvert_exporter": "python",
   "pygments_lexer": "ipython3",
   "version": "3.6.9"
  }
 },
 "nbformat": 4,
 "nbformat_minor": 4
}
