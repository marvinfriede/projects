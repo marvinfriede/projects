{
 "cells": [
  {
   "cell_type": "code",
   "execution_count": 78,
   "metadata": {},
   "outputs": [],
   "source": [
    "import numpy as np\n",
    "import time\n",
    "from scipy.special import erfinv\n",
    "from scipy.linalg import hilbert, invhilbert, hadamard, pascal, lu\n",
    "import matplotlib.pyplot as plt"
   ]
  },
  {
   "cell_type": "code",
   "execution_count": 2,
   "metadata": {},
   "outputs": [
    {
     "data": {
      "text/plain": [
       "array([[0., 0., 0.],\n",
       "       [0., 0., 0.]])"
      ]
     },
     "execution_count": 2,
     "metadata": {},
     "output_type": "execute_result"
    }
   ],
   "source": [
    "np.zeros((2, 3))"
   ]
  },
  {
   "cell_type": "code",
   "execution_count": 3,
   "metadata": {},
   "outputs": [
    {
     "data": {
      "text/plain": [
       "array([[2., 1., 0., 0., 0., 0., 0., 0., 0., 0.],\n",
       "       [1., 2., 1., 0., 0., 0., 0., 0., 0., 0.],\n",
       "       [0., 1., 2., 1., 0., 0., 0., 0., 0., 0.],\n",
       "       [0., 0., 1., 2., 1., 0., 0., 0., 0., 0.],\n",
       "       [0., 0., 0., 1., 2., 1., 0., 0., 0., 0.],\n",
       "       [0., 0., 0., 0., 1., 2., 1., 0., 0., 0.],\n",
       "       [0., 0., 0., 0., 0., 1., 2., 1., 0., 0.],\n",
       "       [0., 0., 0., 0., 0., 0., 1., 2., 1., 0.],\n",
       "       [0., 0., 0., 0., 0., 0., 0., 1., 2., 1.],\n",
       "       [0., 0., 0., 0., 0., 0., 0., 0., 1., 2.]])"
      ]
     },
     "execution_count": 3,
     "metadata": {},
     "output_type": "execute_result"
    }
   ],
   "source": [
    "mat1 = np.eye(10, k=1) + np.eye(10, k=-1)\n",
    "np.fill_diagonal(mat1, 2)\n",
    "mat1"
   ]
  },
  {
   "cell_type": "code",
   "execution_count": 4,
   "metadata": {},
   "outputs": [
    {
     "data": {
      "text/plain": [
       "array([[ 2,  1,  1,  1,  1,  1,  1,  1,  1,  1],\n",
       "       [ 2,  4,  1,  1,  1,  1,  1,  1,  1,  1],\n",
       "       [ 3,  0,  6,  1,  1,  1,  1,  1,  1,  1],\n",
       "       [ 4,  0,  0,  8,  1,  1,  1,  1,  1,  1],\n",
       "       [ 5,  0,  0,  0, 10,  1,  1,  1,  1,  1],\n",
       "       [ 6,  0,  0,  0,  0, 12,  1,  1,  1,  1],\n",
       "       [ 7,  0,  0,  0,  0,  0, 14,  1,  1,  1],\n",
       "       [ 8,  0,  0,  0,  0,  0,  0, 16,  1,  1],\n",
       "       [ 9,  0,  0,  0,  0,  0,  0,  0, 18,  1],\n",
       "       [10,  0,  0,  0,  0,  0,  0,  0,  0, 20]])"
      ]
     },
     "execution_count": 4,
     "metadata": {},
     "output_type": "execute_result"
    }
   ],
   "source": [
    "def special_matrix_forloop(n):\n",
    "    mat = np.zeros((n, n), dtype=int)\n",
    "    for i in range(n):\n",
    "        for j in range(n):\n",
    "            if (j == 0):\n",
    "                mat[i, j] = i + 1\n",
    "            if (i == j):\n",
    "                mat[i, j] = 2 * (i+1)\n",
    "            if (i < j):\n",
    "                mat[i, j] = 1\n",
    "\n",
    "    return mat\n",
    "\n",
    "special_matrix_forloop(10)"
   ]
  },
  {
   "cell_type": "code",
   "execution_count": 5,
   "metadata": {},
   "outputs": [
    {
     "data": {
      "text/plain": [
       "array([[ 1,  1,  1,  1,  1,  1,  1,  1,  1,  1],\n",
       "       [ 2,  4,  1,  1,  1,  1,  1,  1,  1,  1],\n",
       "       [ 3,  0,  6,  1,  1,  1,  1,  1,  1,  1],\n",
       "       [ 4,  0,  0,  8,  1,  1,  1,  1,  1,  1],\n",
       "       [ 5,  0,  0,  0, 10,  1,  1,  1,  1,  1],\n",
       "       [ 6,  0,  0,  0,  0, 12,  1,  1,  1,  1],\n",
       "       [ 7,  0,  0,  0,  0,  0, 14,  1,  1,  1],\n",
       "       [ 8,  0,  0,  0,  0,  0,  0, 16,  1,  1],\n",
       "       [ 9,  0,  0,  0,  0,  0,  0,  0, 18,  1],\n",
       "       [10,  0,  0,  0,  0,  0,  0,  0,  0, 20]])"
      ]
     },
     "execution_count": 5,
     "metadata": {},
     "output_type": "execute_result"
    }
   ],
   "source": [
    "def special_matrix(n):\n",
    "    # init empty matrix, fill with ones and\n",
    "    mat = np.empty((n, n), dtype=int)\n",
    "    mat.fill(1)\n",
    "    \n",
    "    # zero diagonal and below diagonal\n",
    "    mat = np.triu(mat, k = 1)\n",
    "    \n",
    "    # entries of diagonal\n",
    "    diag_mat = np.arange(1, n+1)\n",
    "    row, col = np.diag_indices(n)\n",
    "    mat[row, col] = 2 * diag_mat\n",
    "    \n",
    "    # replace first column\n",
    "    mat[:,0] = diag_mat\n",
    "    return mat\n",
    "\n",
    "special_matrix(10)"
   ]
  },
  {
   "cell_type": "code",
   "execution_count": 6,
   "metadata": {},
   "outputs": [],
   "source": [
    "def magic(n):\n",
    "# create a magic square of dimension n\n",
    "  n = int(n)\n",
    "  if n < 3:\n",
    "    raise ValueError(\"Size must be at least 3\")\n",
    "  if n % 2 == 1:\n",
    "    p = np.arange(1, n+1)\n",
    "    return n*np.mod(p[:, None] + p - (n+3)//2, n) + np.mod(p[:, None] + 2*p-2, n) + 1\n",
    "  elif n % 4 == 0:\n",
    "    J = np.mod(np.arange(1, n+1), 4) // 2\n",
    "    K = J[:, None] == J\n",
    "    M = np.arange(1, n*n+1, n)[:, None] + np.arange(n)\n",
    "    M[K] = n*n + 1 - M[K]\n",
    "  else:\n",
    "    p = n//2\n",
    "    M = magic(p)\n",
    "    M = np.block([[M, M+2*p*p], [M+3*p*p, M+p*p]])\n",
    "    i = np.arange(p)\n",
    "    k = (n-2)//4\n",
    "    j = np.concatenate((np.arange(k), np.arange(n-k+1, n)))\n",
    "    M[np.ix_(np.concatenate((i, i+p)), j)] = M[np.ix_(np.concatenate((i+p, i)), j)]\n",
    "    M[np.ix_([k, k+p], [0, k])] = M[np.ix_([k+p, k], [0, k])]\n",
    "  return M"
   ]
  },
  {
   "cell_type": "code",
   "execution_count": 7,
   "metadata": {},
   "outputs": [
    {
     "name": "stdout",
     "output_type": "stream",
     "text": [
      "[111, 111]\n",
      "[111, 111, 111, 111, 111, 111]\n",
      "[111, 111, 111, 111, 111, 111]\n"
     ]
    }
   ],
   "source": [
    "def magic_test(n):\n",
    "    mgc = magic(n)\n",
    "    \n",
    "    diags = []\n",
    "    rows = []\n",
    "    cols = []\n",
    "    \n",
    "    sum_diag1 = mgc.diagonal().sum()\n",
    "    sum_diag2 = np.flipud(mgc).diagonal().sum()\n",
    "    diags.append(sum_diag1)\n",
    "    diags.append(sum_diag2)\n",
    "    \n",
    "    for i in range(n):\n",
    "        row_sum = mgc[i,:].sum()\n",
    "        rows.append(row_sum)\n",
    "        col_sum = mgc[:,i].sum()\n",
    "        cols.append(col_sum)\n",
    "\n",
    "    print(diags)\n",
    "    print(rows)\n",
    "    print(cols)\n",
    "    return\n",
    "\n",
    "magic_test(6)"
   ]
  },
  {
   "cell_type": "code",
   "execution_count": 8,
   "metadata": {},
   "outputs": [
    {
     "name": "stdout",
     "output_type": "stream",
     "text": [
      "[[8 1 6]\n",
      " [3 5 7]\n",
      " [4 9 2]]\n",
      "[[8 3 4]\n",
      " [1 5 9]\n",
      " [6 7 2]]\n",
      "[[6 7 2]\n",
      " [1 5 9]\n",
      " [8 3 4]]\n",
      "[[4 9 2]\n",
      " [3 5 7]\n",
      " [8 1 6]]\n",
      "[[2 9 4]\n",
      " [7 5 3]\n",
      " [6 1 8]]\n",
      "[[2 7 6]\n",
      " [9 5 1]\n",
      " [4 3 8]]\n",
      "[[4 3 8]\n",
      " [9 5 1]\n",
      " [2 7 6]]\n",
      "[[6 1 8]\n",
      " [7 5 3]\n",
      " [2 9 4]]\n"
     ]
    }
   ],
   "source": [
    "mgc = magic(3)\n",
    "mgcT = mgc.transpose()\n",
    "\n",
    "for i in range(4):\n",
    "    print(mgc)\n",
    "    mgc = np.rot90(mgc)\n",
    "    print(mgcT)\n",
    "    mgcT = np.rot90(mgcT)"
   ]
  },
  {
   "cell_type": "code",
   "execution_count": 9,
   "metadata": {},
   "outputs": [
    {
     "name": "stdout",
     "output_type": "stream",
     "text": [
      "[[ 3  4  5  6  7  8  9 10 11 12 13 14 15 16 17 18 19 20 21 22 23 24 25 26\n",
      "  27 28 29  0  0  0]\n",
      " [ 3  3  5  5  7  3  9  7 11  3 13  9 15  3 17 11 19  3 21 13 23  3 25 15\n",
      "  27  3 29  0  0  0]\n",
      " [ 1  1  1  1  1  0  1  1  1  1  1  1  1  0  1  1  1  0  1  1  1  1  1  1\n",
      "   1  1  1  0  0  0]]\n"
     ]
    },
    {
     "data": {
      "image/png": "[encoded data removed]",
      "text/plain": [
       "<matplotlib.figure.Figure at 0x7fc3ac987550>"
      ]
     },
     "metadata": {
      "needs_background": "light"
     },
     "output_type": "display_data"
    }
   ],
   "source": [
    "max_dim = 30\n",
    "rank = np.zeros((3, max_dim), dtype=int)\n",
    "for n in range(3, max_dim):\n",
    "    mgc = magic(n)\n",
    "    rank[0, n-3] = n \n",
    "    rank[1, n-3] = np.linalg.matrix_rank(mgc)\n",
    "    \n",
    "    try:\n",
    "        mgcInv = np.linalg.inv(mgc)\n",
    "        rank[2, n-3] = 1\n",
    "    except np.linalg.LinAlgError:\n",
    "        rank[2, n-3] = 0\n",
    " \n",
    "print(rank)\n",
    "\n",
    "p = plt.bar(rank[0,:], rank[1,:], 0.5)\n",
    "plt.ylabel(\"rank\")\n",
    "plt.xlabel(\"dim\")\n",
    "plt.show()"
   ]
  },
  {
   "cell_type": "code",
   "execution_count": 10,
   "metadata": {},
   "outputs": [
    {
     "data": {
      "text/plain": [
       "array([[0.12170129, 0.57077885],\n",
       "       [0.88674854, 0.85274649],\n",
       "       [0.91076396, 0.18850418]])"
      ]
     },
     "execution_count": 10,
     "metadata": {},
     "output_type": "execute_result"
    }
   ],
   "source": [
    "np.random.rand(3,2)"
   ]
  },
  {
   "cell_type": "code",
   "execution_count": 82,
   "metadata": {},
   "outputs": [
    {
     "name": "stdout",
     "output_type": "stream",
     "text": [
      "Hilbert\n",
      " [[1.         0.5        0.33333333 0.25       0.2        0.16666667]\n",
      " [0.5        0.33333333 0.25       0.2        0.16666667 0.14285714]\n",
      " [0.33333333 0.25       0.2        0.16666667 0.14285714 0.125     ]\n",
      " [0.25       0.2        0.16666667 0.14285714 0.125      0.11111111]\n",
      " [0.2        0.16666667 0.14285714 0.125      0.11111111 0.1       ]\n",
      " [0.16666667 0.14285714 0.125      0.11111111 0.1        0.09090909]]\n",
      "[[      36     -630     3360    -7560     7560    -2772]\n",
      " [    -630    14700   -88200   211680  -220500    83160]\n",
      " [    3360   -88200   564480 -1411200  1512000  -582120]\n",
      " [   -7560   211680 -1411200  3628800 -3969000  1552320]\n",
      " [    7560  -220500  1512000 -3969000  4410000 -1746360]\n",
      " [   -2772    83160  -582120  1552320 -1746360   698544]]\n",
      "[[ 8.26005930e-14 -2.58837396e-12  1.99376071e-11 -7.25695060e-11\n",
      "   7.43647366e-11 -2.10147455e-11]\n",
      " [-1.48547841e-13  4.79749573e-12 -3.90394383e-11  7.50013385e-11\n",
      "  -7.34625694e-11  3.81161769e-11]\n",
      " [ 5.68434189e-14 -1.81898940e-12 -1.45519152e-11 -2.91038305e-11\n",
      "   2.91038305e-11  1.45519152e-11]\n",
      " [ 1.70974346e-14 -5.12923037e-13  1.81423765e-11 -9.57456336e-12\n",
      "   6.89790447e-11 -4.30855351e-12]\n",
      " [-2.67563749e-14  2.28062014e-12 -1.05073727e-11  3.77209375e-11\n",
      "  -3.87980759e-11  2.42503795e-11]\n",
      " [ 7.82707232e-14 -2.51865195e-12  2.03590478e-11 -5.42907941e-11\n",
      "   2.46973553e-11 -2.00652828e-11]]\n",
      "\n",
      "Hadamard\n",
      " [[ 1  1  1  1]\n",
      " [ 1 -1  1 -1]\n",
      " [ 1  1 -1 -1]\n",
      " [ 1 -1 -1  1]]\n",
      "\n",
      "Pascal\n",
      " [[ 1  1  1  1]\n",
      " [ 1  2  3  4]\n",
      " [ 1  3  6 10]\n",
      " [ 1  4 10 20]]\n",
      "\n",
      "Vandermonde\n",
      " [[ 1  1  1]\n",
      " [ 4  2  1]\n",
      " [ 9  3  1]\n",
      " [25  5  1]]\n"
     ]
    }
   ],
   "source": [
    "# The Hilbert matrix is a notable example of a poorly conditioned matrix.\n",
    "# The elements of Hilbert matrices are given by H(i,j) = 1/(i + j – 1).\n",
    "hilb = hilbert(6)\n",
    "hilb_inv = invhilbert(6, exact=True) # false gives approximation\n",
    "print(\"Hilbert\\n\", hilb)\n",
    "print(hilb_inv)\n",
    "\n",
    "h = hilb.dot(hilb_inv) - np.eye(6)\n",
    "print(h)\n",
    "\n",
    "# Hadamard matrices are matrices of 1's and -1's whose columns are orthogonal: H'*H = n*I\n",
    "# n must be a power of 2\n",
    "hadamard = hadamard(4)\n",
    "print(\"\\nHadamard\\n\", hadamard)\n",
    "\n",
    "# the portion of Pascal’s triangle that corresponds to the specified matrix dimensions\n",
    "pascal = pascal(4)\n",
    "print(\"\\nPascal\\n\", pascal)\n",
    "\n",
    "# The matrix is described by the formula A(i,j)=v(i)(N−j) such that its columns are powers of the vector v.\n",
    "x = np.array([1, 2, 3, 5])\n",
    "N = 3\n",
    "vander = np.vander(x, 3)\n",
    "print(\"\\nVandermonde\\n\", vander)"
   ]
  },
  {
   "cell_type": "code",
   "execution_count": 56,
   "metadata": {
    "scrolled": true
   },
   "outputs": [
    {
     "name": "stdout",
     "output_type": "stream",
     "text": [
      "Correct? True. Execution time: t = 0.08s\n"
     ]
    }
   ],
   "source": [
    "def randn(n, m = 0, seed = 0):\n",
    "    # create random numbers analogous to matlab\n",
    "    # requires \"from scipy.special import erfinv\"\n",
    "    \n",
    "    np.random.seed(seed)\n",
    "    if m == 0:\n",
    "        samples = np.random.rand(n)\n",
    "    if m != 0:\n",
    "        samples = np.random.rand(n, m)\n",
    "    \n",
    "    # transform from uniform to standard normal distribution using inverse cdf\n",
    "    return np.sqrt(2) * erfinv(2 * samples - 1)\n",
    "\n",
    "\n",
    "def lu_decomp(n):\n",
    "    start_time = time.time()\n",
    "    \n",
    "    mat = randn(n, n)\n",
    "    P, L, U = lu(mat)\n",
    "    \n",
    "    exec_time = round((time.time() - start_time), 2)\n",
    "    isCorrect = np.allclose(mat - P @ L @ U, np.zeros((n, n)))\n",
    "    return [isCorrect, exec_time, L, U, P ]\n",
    "\n",
    "sol = lu_decomp(500)\n",
    "print(\"Correct? {}. Execution time: t = {:.2f}s\".format(sol[0],sol[1]))"
   ]
  },
  {
   "cell_type": "code",
   "execution_count": 57,
   "metadata": {},
   "outputs": [
    {
     "name": "stdout",
     "output_type": "stream",
     "text": [
      "Execution time: t = 5.75s\n"
     ]
    }
   ],
   "source": [
    "def lu_decomp_own(n):\n",
    "    start_time = time.time()\n",
    "    \n",
    "    mat = randn(n, n)\n",
    "    for i in range(n):\n",
    "        if mat[i, i] != 0:\n",
    "            for j in range(i+1, n):\n",
    "                l = mat[j, i] / mat[i, i]\n",
    "                mat[j,i] = l\n",
    "                for k in range(i+1, n):\n",
    "                    mat[j, k] = mat[j, k] - l * mat[i, k]\n",
    "\n",
    "    L = np.tril(mat, k = -1) + np.eye(n)\n",
    "    U = np.triu(mat, k = 0)\n",
    "    \n",
    "    exec_time = round((time.time() - start_time), 2)\n",
    "    #isCorrect = np.allclose(randn(n, n) - np.dot(L, U), np.zeros((n, n)))\n",
    "    \n",
    "    return L, U, exec_time\n",
    "\n",
    "\n",
    "L, U, exec_time = lu_decomp_own(300)\n",
    "print(\"Execution time: t = {:.2f}s\".format(exec_time))"
   ]
  },
  {
   "cell_type": "code",
   "execution_count": 81,
   "metadata": {},
   "outputs": [
    {
     "name": "stdout",
     "output_type": "stream",
     "text": [
      "Magic: False.\n",
      "Hilbert: True.\n",
      "Pascal: True.\n",
      "Eye: True.\n",
      "Random: False.\n"
     ]
    }
   ],
   "source": [
    "def is_pos_def(A):\n",
    "    # check if matrix A is positiv definite\n",
    "    \n",
    "    if np.array_equal(A, A.T): # check for symmetry first\n",
    "        try:\n",
    "            np.linalg.cholesky(A) # attempt cholesky decomposition\n",
    "            return True\n",
    "        except np.linalg.LinAlgError:\n",
    "            return False\n",
    "    else:\n",
    "        return False\n",
    "\n",
    "dim = 5\n",
    "print(f\"Magic: {is_pos_def(magic(dim))}.\")\n",
    "print(f\"Hilbert: {is_pos_def(hilbert(dim))}.\")\n",
    "print(f\"Pascal: {is_pos_def(pascal(dim))}.\")\n",
    "print(f\"Eye: {is_pos_def(np.eye(dim,dim))}.\")\n",
    "print(f\"Random: {is_pos_def(randn(dim))}.\")"
   ]
  },
  {
   "cell_type": "code",
   "execution_count": 91,
   "metadata": {},
   "outputs": [
    {
     "data": {
      "text/plain": [
       "array([[ 1., -1., -1., -1.],\n",
       "       [ 0.,  1., -1., -1.],\n",
       "       [ 0.,  0.,  1., -1.],\n",
       "       [ 0.,  0.,  0.,  1.]])"
      ]
     },
     "execution_count": 91,
     "metadata": {},
     "output_type": "execute_result"
    }
   ],
   "source": [
    "n = 4\n",
    "mat = np.full((n, n), -1)\n",
    "mat = np.triu(mat, k = 1) + np.eye(n)\n",
    "mat"
   ]
  },
  {
   "cell_type": "code",
   "execution_count": null,
   "metadata": {},
   "outputs": [],
   "source": []
  }
 ],
 "metadata": {
  "kernelspec": {
   "display_name": "Python 3",
   "language": "python",
   "name": "python3"
  },
  "language_info": {
   "codemirror_mode": {
    "name": "ipython",
    "version": 3
   },
   "file_extension": ".py",
   "mimetype": "text/x-python",
   "name": "python",
   "nbconvert_exporter": "python",
   "pygments_lexer": "ipython3",
   "version": "3.6.9"
  }
 },
 "nbformat": 4,
 "nbformat_minor": 4
}
